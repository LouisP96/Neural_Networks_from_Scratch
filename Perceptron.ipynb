{
  "nbformat": 4,
  "nbformat_minor": 0,
  "metadata": {
    "colab": {
      "name": "Perceptron.ipynb",
      "provenance": [],
      "authorship_tag": "ABX9TyPaV8BCnU2i8rC0aGYKv0Jv",
      "include_colab_link": true
    },
    "kernelspec": {
      "name": "python3",
      "display_name": "Python 3"
    },
    "language_info": {
      "name": "python"
    }
  },
  "cells": [
    {
      "cell_type": "markdown",
      "metadata": {
        "id": "view-in-github",
        "colab_type": "text"
      },
      "source": [
        "<a href=\"https://colab.research.google.com/github/LouisP96/Neural_Networks_from_Scratch/blob/master/Perceptron.ipynb\" target=\"_parent\"><img src=\"https://colab.research.google.com/assets/colab-badge.svg\" alt=\"Open In Colab\"/></a>"
      ]
    },
    {
      "cell_type": "code",
      "execution_count": 1,
      "metadata": {
        "colab": {
          "base_uri": "https://localhost:8080/"
        },
        "id": "CszvX3x0OfsL",
        "outputId": "665b227a-6d34-4271-bd77-3c405f3e310e"
      },
      "outputs": [
        {
          "output_type": "stream",
          "name": "stdout",
          "text": [
            "Mounted at /content/drive\n"
          ]
        }
      ],
      "source": [
        "# Mount Google Drive\n",
        "\n",
        "from google.colab import drive\n",
        "drive.mount('/content/drive')"
      ]
    },
    {
      "cell_type": "code",
      "source": [
        "%cd /content/drive/MyDrive/GitHub/"
      ],
      "metadata": {
        "colab": {
          "base_uri": "https://localhost:8080/"
        },
        "id": "bE7K7zRBQm77",
        "outputId": "2f46fba0-bbe0-4831-97dc-191e2b182213"
      },
      "execution_count": 5,
      "outputs": [
        {
          "output_type": "stream",
          "name": "stdout",
          "text": [
            "/content/drive/MyDrive/GitHub\n"
          ]
        }
      ]
    },
    {
      "cell_type": "code",
      "source": [
        "# Import libraries\n",
        "\n",
        "import numpy as np\n",
        "import matplotlib.pyplot as plt\n",
        "import pandas as pd\n",
        "import math"
      ],
      "metadata": {
        "id": "e7zr0SIwS2R0"
      },
      "execution_count": 20,
      "outputs": []
    },
    {
      "cell_type": "code",
      "source": [
        "# Load dataset\n",
        "\n",
        "trainxs = np.load(\"Data/fashion-train-imgs.npz\")\n",
        "trainys = np.load(\"Data/fashion-train-labels.npz\")\n",
        "devxs = np.load(\"Data/fashion-dev-imgs.npz\")\n",
        "devys = np.load(\"Data/fashion-dev-labels.npz\")\n",
        "testxs = np.load(\"Data/fashion-test-imgs.npz\")\n",
        "testys = np.load(\"Data/fashion-test-labels.npz\")"
      ],
      "metadata": {
        "id": "Ipae4aCSnaa4"
      },
      "execution_count": 24,
      "outputs": []
    },
    {
      "cell_type": "code",
      "source": [
        "# Display an example image with label, specify number below\n",
        "\n",
        "examples_to_show = list(range(40,42))\n",
        "\n",
        "for example in examples_to_show:\n",
        "  print(f\"Y Label: {trainys[example]}\")\n",
        "\n",
        "  plt.imshow(trainxs[:, :, example].T, cmap='gray')\n",
        "  plt.axis('off')\n",
        "  plt.show()"
      ],
      "metadata": {
        "colab": {
          "base_uri": "https://localhost:8080/",
          "height": 514
        },
        "id": "PMtAxZBuooii",
        "outputId": "3bf8c15b-4184-421c-98da-5ec552579543"
      },
      "execution_count": 25,
      "outputs": [
        {
          "output_type": "stream",
          "name": "stdout",
          "text": [
            "Y Label: 0\n"
          ]
        },
        {
          "output_type": "display_data",
          "data": {
            "image/png": "[encoded data removed]",
            "text/plain": [
              "<Figure size 432x288 with 1 Axes>"
            ]
          },
          "metadata": {
            "needs_background": "light"
          }
        },
        {
          "output_type": "stream",
          "name": "stdout",
          "text": [
            "Y Label: 0\n"
          ]
        },
        {
          "output_type": "display_data",
          "data": {
            "image/png": "[encoded data removed]",
            "text/plain": [
              "<Figure size 432x288 with 1 Axes>"
            ]
          },
          "metadata": {
            "needs_background": "light"
          }
        }
      ]
    },
    {
      "cell_type": "code",
      "source": [
        "# Reshape data (flatten images to 1D)\n",
        "\n",
        "def flatten_2D_images(nparray):\n",
        "  return np.reshape(nparray, (nparray.shape[0]*nparray.shape[1], nparray.shape[2]))\n",
        "\n",
        "trainxs_flat = flatten_2D_images(trainxs)\n",
        "devxs_flat = flatten_2D_images(devxs)\n",
        "testxs_flat = flatten_2D_images(testxs)\n",
        "\n",
        "print(f\"Original train data shape: {trainxs.shape}\")\n",
        "print(f\"Flattened train data shape: {trainxs_flat.shape}\")\n",
        "print(f\"Original dev data shape: {devxs.shape}\")\n",
        "print(f\"Flattened dev data shape: {devxs_flat.shape}\")\n",
        "print(f\"Original test data shape: {testxs.shape}\")\n",
        "print(f\"Flattened test data shape: {testxs_flat.shape}\")"
      ],
      "metadata": {
        "colab": {
          "base_uri": "https://localhost:8080/"
        },
        "id": "dI7ZnMGtqHn5",
        "outputId": "56ae71d4-bcf8-4c6f-a7c0-ebc2fdfb519a"
      },
      "execution_count": 34,
      "outputs": [
        {
          "output_type": "stream",
          "name": "stdout",
          "text": [
            "Original train data shape: (28, 28, 12000)\n",
            "Flattened train data shape: (784, 12000)\n",
            "Original dev data shape: (28, 28, 1000)\n",
            "Flattened dev data shape: (784, 1000)\n",
            "Original test data shape: (28, 28, 1000)\n",
            "Flattened test data shape: (784, 1000)\n"
          ]
        }
      ]
    },
    {
      "cell_type": "code",
      "source": [
        "# Number of examples in each dataset\n",
        "train_n = trainxs_flat.shape[1]\n",
        "dev_n = devxs_flat.shape[1]\n",
        "test_n = testxs_flat.shape[1]\n",
        "\n",
        "# Number of dimesions in each image\n",
        "dims = trainxs_flat.shape[0]\n",
        "\n",
        "# Pixel value range\n",
        "pixel_value_max = np.amax(trainxs_flat)\n",
        "pixel_value_min = np.amin(trainxs_flat)\n",
        "print(f\"Max pixel value: {pixel_value_max}\")\n",
        "print(f\"Min pixel value: {pixel_value_min}\")\n",
        "\n",
        "NUMBER_OF_EPOCHS = 500"
      ],
      "metadata": {
        "colab": {
          "base_uri": "https://localhost:8080/"
        },
        "id": "uKLeulTfqWG8",
        "outputId": "ec49010c-5e69-484a-e144-930f2d457720"
      },
      "execution_count": 35,
      "outputs": [
        {
          "output_type": "stream",
          "name": "stdout",
          "text": [
            "Max pixel value: 1.0\n",
            "Min pixel value: 0.0\n"
          ]
        }
      ]
    },
    {
      "cell_type": "code",
      "source": [
        "# The input for each is two lists one for training dataset, and one for the dev dataset\n",
        "\n",
        "# Accuracy\n",
        "list_of_train_accuracies = [] \n",
        "list_of_dev_accuracies = []\n",
        "\n",
        "plt.plot(list_of_train_accuracies, color='k', linestyle='-')\n",
        "plt.plot(list_of_dev_accuracies, color='r', linestyle='-')\n",
        "plt.title(f'Model accuracy',  color='k')\n",
        "plt.ylabel('Accuracy',  color='k')\n",
        "plt.xlabel('Epoch',  color='k')\n",
        "plt.legend(['Training', 'Validation'], loc='upper left')\n",
        "plt.tick_params(colors='k')\n",
        "plt.xlim(0, NUMBER_OF_EPOCHS)\n",
        "# plt.savefig(\"accuracy_plot.png\", dpi=300)\n",
        "plt.show()\n",
        "\n",
        "# Loss\n",
        "list_of_train_loss = []\n",
        "list_of_dev_loss = []\n",
        "\n",
        "plt.plot(list_of_train_loss, color='k', linestyle='-')\n",
        "plt.plot(list_of_dev_loss, color='r', linestyle='-')\n",
        "plt.title(f'Model loss',  color='k')\n",
        "plt.ylabel('loss',  color='k')\n",
        "plt.xlabel('Epoch',  color='k')\n",
        "plt.legend(['Training', 'Validation'], loc='upper left')\n",
        "plt.tick_params(colors='k')\n",
        "plt.xlim(0, NUMBER_OF_EPOCHS)\n",
        "# plt.savefig(\"loss_plot.png\", dpi=300)\n",
        "plt.show()\n"
      ],
      "metadata": {
        "colab": {
          "base_uri": "https://localhost:8080/",
          "height": 573
        },
        "id": "ejejkiD3qbkw",
        "outputId": "eb19e348-7ddf-4941-eff8-9e6be97042da"
      },
      "execution_count": 36,
      "outputs": [
        {
          "output_type": "display_data",
          "data": {
            "image/png": "[encoded data removed]",
            "text/plain": [
              "<Figure size 432x288 with 1 Axes>"
            ]
          },
          "metadata": {
            "needs_background": "light"
          }
        },
        {
          "output_type": "display_data",
          "data": {
            "image/png": "[encoded data removed]",
            "text/plain": [
              "<Figure size 432x288 with 1 Axes>"
            ]
          },
          "metadata": {
            "needs_background": "light"
          }
        }
      ]
    },
    {
      "cell_type": "code",
      "source": [
        "# Code to generate random indices to shuffle going through training dataset\n",
        "# (include shuffled_indices as the iterator in training for loop)\n",
        "\n",
        "shuffled_indices = [*range(0, train_n, 1)]\n",
        "np.random.shuffle(shuffled_indices)"
      ],
      "metadata": {
        "id": "6XdEyx-Uqv24"
      },
      "execution_count": 37,
      "outputs": []
    },
    {
      "cell_type": "code",
      "source": [
        "# Early stopping code\n",
        "\n",
        "# if len(train_accuracy_per_epoch) >= 30:\n",
        "#   if (np.mean(train_accuracy_per_epoch[-20:]) - np.mean(train_accuracy_per_epoch[-30:-10])) < 0:\n",
        "#     print(\"break\")\n",
        "#     break "
      ],
      "metadata": {
        "id": "_ibQVBITrGYi"
      },
      "execution_count": 43,
      "outputs": []
    }
  ]
}