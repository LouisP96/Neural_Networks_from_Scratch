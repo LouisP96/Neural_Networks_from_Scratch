{
  "nbformat": 4,
  "nbformat_minor": 0,
  "metadata": {
    "colab": {
      "name": "Perceptron.ipynb",
      "provenance": [],
      "authorship_tag": "ABX9TyNUeA4tb7djJRfGYyXUexWE",
      "include_colab_link": true
    },
    "kernelspec": {
      "name": "python3",
      "display_name": "Python 3"
    },
    "language_info": {
      "name": "python"
    }
  },
  "cells": [
    {
      "cell_type": "markdown",
      "metadata": {
        "id": "view-in-github",
        "colab_type": "text"
      },
      "source": [
        "<a href=\"https://colab.research.google.com/github/LouisP96/Neural_Networks_from_Scratch/blob/master/Perceptron.ipynb\" target=\"_parent\"><img src=\"https://colab.research.google.com/assets/colab-badge.svg\" alt=\"Open In Colab\"/></a>"
      ]
    },
    {
      "cell_type": "markdown",
      "source": [
        "# Setup"
      ],
      "metadata": {
        "id": "MAb0BgRRaR4A"
      }
    },
    {
      "cell_type": "code",
      "execution_count": 1,
      "metadata": {
        "colab": {
          "base_uri": "https://localhost:8080/"
        },
        "id": "CszvX3x0OfsL",
        "outputId": "7a5ce6e5-f9eb-4c3b-f1ec-a013c7a9e4b9"
      },
      "outputs": [
        {
          "output_type": "stream",
          "name": "stdout",
          "text": [
            "Mounted at /content/drive\n"
          ]
        }
      ],
      "source": [
        "# Mount Google Drive\n",
        "\n",
        "from google.colab import drive\n",
        "drive.mount('/content/drive')"
      ]
    },
    {
      "cell_type": "code",
      "source": [
        "%cd /content/drive/MyDrive/GitHub/Neural_Networks_from_Scratch"
      ],
      "metadata": {
        "colab": {
          "base_uri": "https://localhost:8080/"
        },
        "id": "bE7K7zRBQm77",
        "outputId": "3e6ba4ac-0d88-4e31-a062-0d32f7ade0a4"
      },
      "execution_count": 5,
      "outputs": [
        {
          "output_type": "stream",
          "name": "stdout",
          "text": [
            "/content/drive/MyDrive/GitHub/Neural_Networks_from_Scratch\n"
          ]
        }
      ]
    },
    {
      "cell_type": "code",
      "source": [
        "# Import libraries\n",
        "\n",
        "import numpy as np\n",
        "import matplotlib.pyplot as plt\n",
        "import pandas as pd\n",
        "import math"
      ],
      "metadata": {
        "id": "e7zr0SIwS2R0"
      },
      "execution_count": 3,
      "outputs": []
    },
    {
      "cell_type": "code",
      "source": [
        "# Load dataset\n",
        "\n",
        "trainxs = np.load(\"Data/fashion-train-imgs.npz\")\n",
        "trainys = np.load(\"Data/fashion-train-labels.npz\")\n",
        "devxs = np.load(\"Data/fashion-dev-imgs.npz\")\n",
        "devys = np.load(\"Data/fashion-dev-labels.npz\")\n",
        "testxs = np.load(\"Data/fashion-test-imgs.npz\")\n",
        "testys = np.load(\"Data/fashion-test-labels.npz\")"
      ],
      "metadata": {
        "id": "Ipae4aCSnaa4"
      },
      "execution_count": 6,
      "outputs": []
    },
    {
      "cell_type": "markdown",
      "metadata": {
        "id": "J11cxg097bIK"
      },
      "source": [
        "##Data exploration & preparation##"
      ]
    },
    {
      "cell_type": "code",
      "source": [
        "# Display an example image with label, specify number below\n",
        "\n",
        "examples_to_show = list(range(40,42))\n",
        "\n",
        "for example in examples_to_show:\n",
        "  print(f\"Y Label: {trainys[example]}\")\n",
        "\n",
        "  plt.imshow(trainxs[:, :, example].T, cmap='gray')\n",
        "  plt.axis('off')\n",
        "  plt.show()"
      ],
      "metadata": {
        "colab": {
          "base_uri": "https://localhost:8080/",
          "height": 514
        },
        "id": "PMtAxZBuooii",
        "outputId": "4bcc5f4d-d723-459c-ddea-6ac14364edf2"
      },
      "execution_count": 7,
      "outputs": [
        {
          "output_type": "stream",
          "name": "stdout",
          "text": [
            "Y Label: 0\n"
          ]
        },
        {
          "output_type": "display_data",
          "data": {
            "image/png": "[encoded data removed]",
            "text/plain": [
              "<Figure size 432x288 with 1 Axes>"
            ]
          },
          "metadata": {
            "needs_background": "light"
          }
        },
        {
          "output_type": "stream",
          "name": "stdout",
          "text": [
            "Y Label: 0\n"
          ]
        },
        {
          "output_type": "display_data",
          "data": {
            "image/png": "[encoded data removed]",
            "text/plain": [
              "<Figure size 432x288 with 1 Axes>"
            ]
          },
          "metadata": {
            "needs_background": "light"
          }
        }
      ]
    },
    {
      "cell_type": "code",
      "source": [
        "# Reshape data (flatten images to 1D)\n",
        "\n",
        "def flatten_2D_images(nparray):\n",
        "  return np.reshape(nparray, (nparray.shape[0]*nparray.shape[1], nparray.shape[2]))\n",
        "\n",
        "trainxs_flat = flatten_2D_images(trainxs)\n",
        "devxs_flat = flatten_2D_images(devxs)\n",
        "testxs_flat = flatten_2D_images(testxs)\n",
        "\n",
        "print(f\"Original train data shape: {trainxs.shape}\")\n",
        "print(f\"Flattened train data shape: {trainxs_flat.shape}\")\n",
        "print(f\"Original dev data shape: {devxs.shape}\")\n",
        "print(f\"Flattened dev data shape: {devxs_flat.shape}\")\n",
        "print(f\"Original test data shape: {testxs.shape}\")\n",
        "print(f\"Flattened test data shape: {testxs_flat.shape}\")"
      ],
      "metadata": {
        "colab": {
          "base_uri": "https://localhost:8080/"
        },
        "id": "dI7ZnMGtqHn5",
        "outputId": "7fcb0303-9d83-4831-de10-4092daae9d8d"
      },
      "execution_count": 8,
      "outputs": [
        {
          "output_type": "stream",
          "name": "stdout",
          "text": [
            "Original train data shape: (28, 28, 12000)\n",
            "Flattened train data shape: (784, 12000)\n",
            "Original dev data shape: (28, 28, 1000)\n",
            "Flattened dev data shape: (784, 1000)\n",
            "Original test data shape: (28, 28, 1000)\n",
            "Flattened test data shape: (784, 1000)\n"
          ]
        }
      ]
    },
    {
      "cell_type": "markdown",
      "metadata": {
        "id": "baB3ZY_Pc6ya"
      },
      "source": [
        "##Useful Values##"
      ]
    },
    {
      "cell_type": "code",
      "source": [
        "# Number of examples in each dataset\n",
        "train_n = trainxs_flat.shape[1]\n",
        "dev_n = devxs_flat.shape[1]\n",
        "test_n = testxs_flat.shape[1]\n",
        "\n",
        "# Number of dimesions in each image\n",
        "dims = trainxs_flat.shape[0]\n",
        "\n",
        "# Pixel value range\n",
        "pixel_value_max = np.amax(trainxs_flat)\n",
        "pixel_value_min = np.amin(trainxs_flat)\n",
        "print(f\"Max pixel value: {pixel_value_max}\")\n",
        "print(f\"Min pixel value: {pixel_value_min}\")"
      ],
      "metadata": {
        "colab": {
          "base_uri": "https://localhost:8080/"
        },
        "id": "uKLeulTfqWG8",
        "outputId": "1a2b1f44-9dbb-481d-bfb3-e29a5866959d"
      },
      "execution_count": 9,
      "outputs": [
        {
          "output_type": "stream",
          "name": "stdout",
          "text": [
            "Max pixel value: 1.0\n",
            "Min pixel value: 0.0\n"
          ]
        }
      ]
    },
    {
      "cell_type": "markdown",
      "metadata": {
        "id": "ebboR5ba7gJ_"
      },
      "source": [
        "##Common Functions##"
      ]
    },
    {
      "cell_type": "code",
      "source": [
        "# Skeleton for plots\n",
        "\n",
        "NUMBER_OF_EPOCHS = 100\n",
        "\n",
        "# Accuracy\n",
        "list_of_train_accuracies = [] \n",
        "list_of_dev_accuracies = []\n",
        "\n",
        "plt.plot(list_of_train_accuracies, color='k', linestyle='-')\n",
        "plt.plot(list_of_dev_accuracies, color='r', linestyle='-')\n",
        "plt.title(f'Model accuracy',  color='k')\n",
        "plt.ylabel('Accuracy',  color='k')\n",
        "plt.xlabel('Epoch',  color='k')\n",
        "plt.legend(['Training', 'Validation'], loc='upper left')\n",
        "plt.tick_params(colors='k')\n",
        "plt.xlim(0, NUMBER_OF_EPOCHS)\n",
        "# plt.savefig(\"accuracy_plot.png\", dpi=300)\n",
        "plt.show()\n",
        "\n",
        "# Loss\n",
        "list_of_train_loss = []\n",
        "list_of_dev_loss = []\n",
        "\n",
        "plt.plot(list_of_train_loss, color='k', linestyle='-')\n",
        "plt.plot(list_of_dev_loss, color='r', linestyle='-')\n",
        "plt.title(f'Model loss',  color='k')\n",
        "plt.ylabel('loss',  color='k')\n",
        "plt.xlabel('Epoch',  color='k')\n",
        "plt.legend(['Training', 'Validation'], loc='upper left')\n",
        "plt.tick_params(colors='k')\n",
        "plt.xlim(0, NUMBER_OF_EPOCHS)\n",
        "# plt.savefig(\"loss_plot.png\", dpi=300)\n",
        "plt.show()"
      ],
      "metadata": {
        "colab": {
          "base_uri": "https://localhost:8080/",
          "height": 573
        },
        "id": "ejejkiD3qbkw",
        "outputId": "8875339b-82dc-4a80-b214-93b9a95e95c8"
      },
      "execution_count": 10,
      "outputs": [
        {
          "output_type": "display_data",
          "data": {
            "image/png": "[encoded data removed]",
            "text/plain": [
              "<Figure size 432x288 with 1 Axes>"
            ]
          },
          "metadata": {
            "needs_background": "light"
          }
        },
        {
          "output_type": "display_data",
          "data": {
            "image/png": "[encoded data removed]",
            "text/plain": [
              "<Figure size 432x288 with 1 Axes>"
            ]
          },
          "metadata": {
            "needs_background": "light"
          }
        }
      ]
    },
    {
      "cell_type": "code",
      "source": [
        "# Code to generate random indices to shuffle going through training dataset\n",
        "# (include shuffled_indices as the iterator in training for loop)\n",
        "\n",
        "shuffled_indices = [*range(0, train_n, 1)]\n",
        "np.random.shuffle(shuffled_indices)"
      ],
      "metadata": {
        "id": "6XdEyx-Uqv24"
      },
      "execution_count": 11,
      "outputs": []
    },
    {
      "cell_type": "code",
      "source": [
        "# Early stopping code\n",
        "\n",
        "if len(train_accuracy_per_epoch) >= 30:\n",
        "  if (np.mean(train_accuracy_per_epoch[-20:]) - np.mean(train_accuracy_per_epoch[-30:-10])) < 0:\n",
        "    print(\"break\")\n",
        "    break "
      ],
      "metadata": {
        "id": "_ibQVBITrGYi"
      },
      "execution_count": null,
      "outputs": []
    },
    {
      "cell_type": "markdown",
      "source": [
        "# Perceptron implementation"
      ],
      "metadata": {
        "id": "JETAxFYianI-"
      }
    },
    {
      "cell_type": "code",
      "source": [
        "NUMBER_OF_EPOCHS = 100\n",
        "w = np.zeros(dims)\n",
        "b = 0.0\n",
        "\n",
        "train_accuracy_per_epoch = []\n",
        "dev_accuracy_per_epoch = []\n",
        "\n",
        "best_dev_accuracy = 0\n",
        "best_dev_bias = 0\n",
        "best_dev_weights = np.zeros(dims)\n",
        "\n",
        "for j in range(NUMBER_OF_EPOCHS):\n",
        "    train_errors = 0\n",
        "    dev_errors = 0\n",
        "    \n",
        "    shuffled_indices = [*range(0, train_n, 1)]\n",
        "    np.random.shuffle(shuffled_indices)\n",
        "\n",
        "    # Run a training epoch\n",
        "    for i in shuffled_indices:\n",
        "        train_x = trainxs_flat[:, i]\n",
        "        train_pred = 1 if (np.dot(w,train_x) + b) >= 0 else 0\n",
        "        if train_pred == 0 and trainys[i] ==1:\n",
        "            w += train_x\n",
        "            b += 1\n",
        "            train_errors += 1\n",
        "        if train_pred == 1 and trainys[i] ==0:\n",
        "            w -= train_x\n",
        "            b -= 1\n",
        "            train_errors += 1\n",
        "    train_accuracy_per_epoch.append((train_n-train_errors)/train_n)\n",
        "    \n",
        "    # Evaluate the updated weights and bias on the validation set\n",
        "    for i in range(dev_n):\n",
        "        dev_x = devxs_flat[:, i]\n",
        "        dev_pred = 1 if (np.dot(w, dev_x) + b) >= 0 else 0\n",
        "        if dev_pred != devys[i]:\n",
        "            dev_errors += 1\n",
        "    dev_accuracy = (dev_n-dev_errors)/dev_n\n",
        "    dev_accuracy_per_epoch.append(dev_accuracy)\n",
        "\n",
        "    # Store accuracy, weights, and bias from epoch with best validation accuracy\n",
        "    if dev_accuracy > best_dev_accuracy:\n",
        "        best_dev_accuracy = dev_accuracy    \n",
        "        best_dev_weights = w\n",
        "        best_dev_bias = b\n",
        "        best_weights_epoch = j\n",
        "\n",
        "    # Early stopping criteria\n",
        "    if len(dev_accuracy_per_epoch) >= 30:\n",
        "        if (np.mean(dev_accuracy_per_epoch[-15:]) - np.mean(dev_accuracy_per_epoch[-30:-15])) < 0:\n",
        "            print(\"break\")\n",
        "            break\n",
        "\n",
        "# Accuracy on the training for the epoch on which we obtain the highest accuracy on the validation set\n",
        "\n",
        "best_train_accuracy = train_accuracy_per_epoch[best_weights_epoch]"
      ],
      "metadata": {
        "colab": {
          "base_uri": "https://localhost:8080/"
        },
        "id": "lrWomau-aM8b",
        "outputId": "7adc89cf-f542-4e63-c5d8-1cc095e5f8b3"
      },
      "execution_count": 16,
      "outputs": [
        {
          "output_type": "stream",
          "name": "stdout",
          "text": [
            "break\n"
          ]
        }
      ]
    },
    {
      "cell_type": "code",
      "source": [
        "# Accuracy\n",
        "\n",
        "plt.plot(train_accuracy_per_epoch, color='k', linestyle='-')\n",
        "plt.plot(dev_accuracy_per_epoch, color='r', linestyle='-')\n",
        "plt.title(f'Model accuracy',  color='k')\n",
        "plt.ylabel('Accuracy',  color='k')\n",
        "plt.xlabel('Epoch',  color='k')\n",
        "plt.legend(['Training', 'Validation'], loc='upper left')\n",
        "plt.tick_params(colors='k')\n",
        "# plt.xlim(0, NUMBER_OF_EPOCHS)\n",
        "# plt.savefig(\"accuracy_plot.png\", dpi=300)\n",
        "plt.show()"
      ],
      "metadata": {
        "colab": {
          "base_uri": "https://localhost:8080/",
          "height": 295
        },
        "id": "mQ8TR9x_d7Dr",
        "outputId": "ff5e9aec-668b-4ac9-a043-89639fc7e059"
      },
      "execution_count": 19,
      "outputs": [
        {
          "output_type": "display_data",
          "data": {
            "image/png": "[encoded data removed]",
            "text/plain": [
              "<Figure size 432x288 with 1 Axes>"
            ]
          },
          "metadata": {
            "needs_background": "light"
          }
        }
      ]
    },
    {
      "cell_type": "code",
      "source": [
        "# Final accuracy on test set\n",
        "\n",
        "shuffled_indices = [*range(0, test_n, 1)]\n",
        "np.random.shuffle(shuffled_indices)\n",
        "\n",
        "test_errors = 0\n",
        "\n",
        "for i in range(dev_n):\n",
        "    test_x = testxs_flat[:, i]\n",
        "    test_pred = 1 if (np.dot(w, test_x) + b) >= 0 else 0\n",
        "    if test_pred != testys[i]:\n",
        "        test_errors += 1\n",
        "test_accuracy = (test_n - test_errors)/test_n\n",
        "print(\"Test accuracy:\", test_accuracy)"
      ],
      "metadata": {
        "colab": {
          "base_uri": "https://localhost:8080/"
        },
        "id": "b4JFmlfXf3Cb",
        "outputId": "0f4af8e6-a95b-430b-e431-e25d2f094644"
      },
      "execution_count": 24,
      "outputs": [
        {
          "output_type": "stream",
          "name": "stdout",
          "text": [
            "Test accuracy: 0.504\n"
          ]
        }
      ]
    }
  ]
}